{
 "cells": [
  {
   "cell_type": "markdown",
   "id": "8d66a52e",
   "metadata": {},
   "source": [
    "1. Use assembly to solve the following problems:"
   ]
  },
  {
   "cell_type": "markdown",
   "id": "1ac7de00",
   "metadata": {},
   "source": [
    "A. Obtain the 50th Fibonacci number\n"
   ]
  },
  {
   "cell_type": "code",
   "execution_count": 4,
   "id": "4d518eff",
   "metadata": {},
   "outputs": [
    {
     "data": {
      "text/html": [
       "Changes: <br /><table><tr><th>Type</th><th>Identifier</th><th>Value</th><tr><td>Register</td><td>EAX</td>\n",
       "            <td>8</td></tr><tr><td>Register</td><td>EBX</td>\n",
       "            <td>8</td></tr><tr><td>Register</td><td>ECX</td>\n",
       "            <td>2</td></tr><tr><td>Register</td><td>EDX</td>\n",
       "            <td>8</td></tr></table>"
      ]
     },
     "metadata": {},
     "output_type": "display_data"
    }
   ],
   "source": [
    ".data \n",
    "    base DB 8\n",
    "    exp1 DB 2  \n",
    ".text \n",
    "    mov eax, [base]\n",
    "    mov edx, [base]\n",
    "    mov ebx, [base]\n",
    "    mov ecx, [exp1]"
   ]
  },
  {
   "cell_type": "code",
   "execution_count": 5,
   "id": "99d5c245",
   "metadata": {},
   "outputs": [
    {
     "data": {
      "text/html": [
       "Changes: <br /><table><tr><th>Type</th><th>Identifier</th><th>Value</th><tr><td>Register</td><td>EAX</td>\n",
       "            <td>16</td></tr><tr><td>Register</td><td>EBX</td>\n",
       "            <td>8</td></tr><tr><td>Register</td><td>ECX</td>\n",
       "            <td>1</td></tr><tr><td>Register</td><td>EDX</td>\n",
       "            <td>8</td></tr><tr><td>Flag</td><td>SF</td>\n",
       "            <td>0</td></tr><tr><td>Flag</td><td>ZF</td>\n",
       "            <td>1</td></tr></table>"
      ]
     },
     "metadata": {},
     "output_type": "display_data"
    }
   ],
   "source": [
    "loop: mov ebx, eax\n",
    "      add eax, edx\n",
    "      mov edx, ebx\n",
    "          dec ecx \n",
    "          cmp ecx, 1\n",
    "          jne loop"
   ]
  },
  {
   "cell_type": "markdown",
   "id": "c0e537d9",
   "metadata": {},
   "source": [
    "El eax es el valor final de fibonacci"
   ]
  },
  {
   "cell_type": "code",
   "execution_count": 6,
   "id": "3ce7ecb4",
   "metadata": {},
   "outputs": [
    {
     "data": {
      "text/html": [
       "Changes: <br /><table><tr><th>Type</th><th>Identifier</th><th>Value</th><tr><td>Register</td><td>EAX</td>\n",
       "            <td>1836311903</td></tr><tr><td>Register</td><td>EBX</td>\n",
       "            <td>1134903170</td></tr><tr><td>Register</td><td>ECX</td>\n",
       "            <td>1</td></tr><tr><td>Register</td><td>EDX</td>\n",
       "            <td>1134903170</td></tr><tr><td>Flag</td><td>SF</td>\n",
       "            <td>0</td></tr><tr><td>Flag</td><td>ZF</td>\n",
       "            <td>1</td></tr></table>"
      ]
     },
     "metadata": {},
     "output_type": "display_data"
    }
   ],
   "source": [
    "mov eax, 1 \n",
    "mov edx, 0\n",
    "mov ecx, 46\n",
    "mov ebx, 0\n",
    "loop: mov ebx, eax\n",
    "      add eax, edx\n",
    "      mov edx, ebx\n",
    "      dec ecx \n",
    "      cmp ecx, 1\n",
    "      jne loop"
   ]
  },
  {
   "cell_type": "markdown",
   "id": "eeacfe1e",
   "metadata": {},
   "source": [
    "EAX = F46 = 1836311903"
   ]
  }
 ],
 "metadata": {
  "kernelspec": {
   "display_name": "Intel",
   "language": "",
   "name": "intel"
  },
  "language_info": {
   "file_extension": "x86",
   "mimetype": "intel",
   "name": "intel"
  }
 },
 "nbformat": 4,
 "nbformat_minor": 5
}
