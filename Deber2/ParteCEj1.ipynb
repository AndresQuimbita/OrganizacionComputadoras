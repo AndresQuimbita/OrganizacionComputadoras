{
 "cells": [
  {
   "cell_type": "markdown",
   "id": "832c8d08",
   "metadata": {},
   "source": [
    "C. Given an array of integers, calculate the average"
   ]
  },
  {
   "cell_type": "code",
   "execution_count": 45,
   "id": "6d6006a1",
   "metadata": {},
   "outputs": [
    {
     "name": "stdout",
     "output_type": "stream",
     "text": [
      "Line 11: Unknown symbol: loop"
     ]
    }
   ],
   "source": [
    ".data\n",
    "    x DB 3, 8, 5, 2\n",
    "\n",
    ".text\n",
    "    mov eax, [x] \n",
    "    mov ecx, 4\n",
    "    mov ebx, 0\n",
    "loop: inc ebx\n",
    "      add eax, [x+ebx]\n",
    "      cmp ebx, ecx\n",
    "      jne loop\n",
    "      mov ebx, eax\n",
    "      mov eax, 4\n",
    "      idiv ebx"
   ]
  },
  {
   "cell_type": "code",
   "execution_count": 46,
   "id": "aab561cf",
   "metadata": {},
   "outputs": [
    {
     "data": {
      "text/html": [
       "Changes: <br /><table><tr><th>Type</th><th>Identifier</th><th>Value</th><tr><td>Register</td><td>EAX</td>\n",
       "            <td>0</td></tr><tr><td>Register</td><td>EBX</td>\n",
       "            <td>18</td></tr><tr><td>Register</td><td>ECX</td>\n",
       "            <td>4</td></tr><tr><td>Register</td><td>EDX</td>\n",
       "            <td>4</td></tr><tr><td>Flag</td><td>ZF</td>\n",
       "            <td>1</td></tr><tr><td>Flag</td><td>SF</td>\n",
       "            <td>0</td></tr></table>"
      ]
     },
     "metadata": {},
     "output_type": "display_data"
    }
   ],
   "source": [
    "mov edx, 0\n",
    "mov ecx, 4\n",
    "mov ebx, 0\n",
    "mov eax, [x]\n",
    "loop: inc ebx\n",
    "      add eax, [x+ebx]\n",
    "      cmp ebx, ecx\n",
    "      jne loop\n",
    "      mov ebx, eax\n",
    "      mov eax, 4\n",
    "      idiv ebx"
   ]
  },
  {
   "cell_type": "markdown",
   "id": "4f4e8a96",
   "metadata": {},
   "source": [
    "SUM = EBX = 18\n",
    "\n",
    "PROM = EDX = 18/4 = 4.5 = 4"
   ]
  },
  {
   "cell_type": "code",
   "execution_count": null,
   "id": "355e65bc",
   "metadata": {},
   "outputs": [],
   "source": []
  }
 ],
 "metadata": {
  "kernelspec": {
   "display_name": "Intel",
   "language": "",
   "name": "intel"
  },
  "language_info": {
   "file_extension": "x86",
   "mimetype": "intel",
   "name": "intel"
  }
 },
 "nbformat": 4,
 "nbformat_minor": 5
}
