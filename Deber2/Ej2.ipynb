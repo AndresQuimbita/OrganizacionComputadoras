{
 "cells": [
  {
   "cell_type": "markdown",
   "id": "d629df9f",
   "metadata": {},
   "source": [
    "3. For the following memory space, what would it look like after executing the assembly code below:"
   ]
  },
  {
   "cell_type": "markdown",
   "id": "aed0d0eb",
   "metadata": {},
   "source": [
    "LOAD 14 = Carga el valor del espacio de memoria 14.\n",
    "ADD (12) = Suma el valor del adrress 12 consigo mismo y lo almacena ahi mismo (10).\n",
    "STORE 12 = Guarda el valor 12 en memoria en el siguiente espacio."
   ]
  },
  {
   "cell_type": "markdown",
   "id": "4c5985ca",
   "metadata": {},
   "source": [
    "2. For a 16 bit word with 6 bits for an opcode\n",
    "  a.How many different instructions could I fit into the instruction set?\n",
    "  Tener 6 bits de opcode significa que es posible hacer 2^6 = 64 diferentes instrucciones que pueden ser interpretados en solo ciclo decode.\n",
    "\n",
    "  b.What is the largest number that I could use as data?\n",
    "  Se puede tener 2^10 - 1 = 1023 como el numero más grande."
   ]
  },
  {
   "cell_type": "markdown",
   "id": "a0f2d282",
   "metadata": {},
   "source": [
    "4. What's the difference in the assembly code?\n",
    "Se usa las instrucciones con long en el assembly, el movq se transforma a movl porque el long guarda mas bots que un entero."
   ]
  },
  {
   "cell_type": "code",
   "execution_count": null,
   "id": "4ecbfeb0",
   "metadata": {},
   "outputs": [],
   "source": []
  }
 ],
 "metadata": {
  "kernelspec": {
   "display_name": "Intel",
   "language": "",
   "name": "intel"
  },
  "language_info": {
   "file_extension": "x86",
   "mimetype": "intel",
   "name": "intel"
  }
 },
 "nbformat": 4,
 "nbformat_minor": 5
}
