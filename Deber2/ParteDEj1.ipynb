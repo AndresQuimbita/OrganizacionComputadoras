{
 "cells": [
  {
   "cell_type": "markdown",
   "id": "c1eb7325",
   "metadata": {},
   "source": [
    "D. Write a program to transform from Celsius to Fahrenheit and vice versa"
   ]
  },
  {
   "cell_type": "code",
   "execution_count": 42,
   "id": "dc454ef3",
   "metadata": {},
   "outputs": [
    {
     "data": {
      "text/html": [
       "Changes: <br /><table><tr><th>Type</th><th>Identifier</th><th>Value</th><tr><td>Register</td><td>EAX</td>\n",
       "            <td>35</td></tr><tr><td>Register</td><td>EBX</td>\n",
       "            <td>5</td></tr><tr><td>Register</td><td>EDX</td>\n",
       "            <td>3</td></tr></table>"
      ]
     },
     "metadata": {},
     "output_type": "display_data"
    }
   ],
   "source": [
    ".data\n",
    ".text\n",
    "    mov eax, 2\n",
    "    mov ebx, 5\n",
    "    imul eax, 9\n",
    "    idiv ebx\n",
    "    add eax,32\n",
    "    "
   ]
  },
  {
   "cell_type": "markdown",
   "id": "0b1edb4c",
   "metadata": {},
   "source": [
    "Celcius = 2, Fahrenheit = 35"
   ]
  },
  {
   "cell_type": "code",
   "execution_count": 48,
   "id": "a5277c94",
   "metadata": {},
   "outputs": [
    {
     "data": {
      "text/html": [
       "Changes: <br /><table><tr><th>Type</th><th>Identifier</th><th>Value</th><tr><td>Register</td><td>EAX</td>\n",
       "            <td>-17</td></tr><tr><td>Register</td><td>EBX</td>\n",
       "            <td>9</td></tr><tr><td>Register</td><td>EDX</td>\n",
       "            <td>3</td></tr></table>"
      ]
     },
     "metadata": {},
     "output_type": "display_data"
    }
   ],
   "source": [
    ".data\n",
    ".text\n",
    "    mov eax, 2\n",
    "    sub eax, 32\n",
    "    imul eax, 5\n",
    "    mov ebx, 9\n",
    "    idiv ebx\n",
    "    "
   ]
  },
  {
   "cell_type": "markdown",
   "id": "9a869bd0",
   "metadata": {},
   "source": [
    "Fahrenheit = 2, Celcius = -17"
   ]
  },
  {
   "cell_type": "code",
   "execution_count": null,
   "id": "741e95ba",
   "metadata": {},
   "outputs": [],
   "source": []
  }
 ],
 "metadata": {
  "kernelspec": {
   "display_name": "Intel",
   "language": "",
   "name": "intel"
  },
  "language_info": {
   "file_extension": "x86",
   "mimetype": "intel",
   "name": "intel"
  }
 },
 "nbformat": 4,
 "nbformat_minor": 5
}
